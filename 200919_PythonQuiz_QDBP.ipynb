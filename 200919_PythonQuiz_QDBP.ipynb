{
  "nbformat": 4,
  "nbformat_minor": 0,
  "metadata": {
    "colab": {
      "name": "200919 PythonQuiz QDBP",
      "provenance": [],
      "authorship_tag": "ABX9TyNrCm7y9k9Z/SXAsPMcJoJ4",
      "include_colab_link": true
    },
    "kernelspec": {
      "name": "python3",
      "display_name": "Python 3"
    }
  },
  "cells": [
    {
      "cell_type": "markdown",
      "metadata": {
        "id": "view-in-github",
        "colab_type": "text"
      },
      "source": [
        "<a href=\"https://colab.research.google.com/github/ftwqueenie/the-capital-quiz/blob/master/200919_PythonQuiz_QDBP.ipynb\" target=\"_parent\"><img src=\"https://colab.research.google.com/assets/colab-badge.svg\" alt=\"Open In Colab\"/></a>"
      ]
    },
    {
      "cell_type": "markdown",
      "metadata": {
        "id": "jn0B5_rv5uSy",
        "colab_type": "text"
      },
      "source": [
        " This is a code for creating a quiz app\n",
        " ==="
      ]
    },
    {
      "cell_type": "markdown",
      "metadata": {
        "id": "RO_bjpTp6tS-",
        "colab_type": "text"
      },
      "source": [
        "**Queenie Dian Pamatian**"
      ]
    },
    {
      "cell_type": "markdown",
      "metadata": {
        "id": "joVStrap6zKU",
        "colab_type": "text"
      },
      "source": [
        "Declaration of variables"
      ]
    },
    {
      "cell_type": "code",
      "metadata": {
        "id": "5Aaz_Da761YI",
        "colab_type": "code",
        "colab": {}
      },
      "source": [
        "questions = ['UAE', 'UK', 'Philippines', 'Belgium', 'Egypt', 'China']\n",
        "answers = ['Abu Dhabi', 'london', 'Manila', 'Brussels', 'Cairo', 'Beijing']\n",
        "correct = []\n",
        "i=0"
      ],
      "execution_count": 11,
      "outputs": []
    },
    {
      "cell_type": "markdown",
      "metadata": {
        "id": "ZDg51hMx774v",
        "colab_type": "text"
      },
      "source": [
        "The Quiz (for loop)"
      ]
    },
    {
      "cell_type": "code",
      "metadata": {
        "id": "bPJ_6zsA8DZX",
        "colab_type": "code",
        "colab": {
          "base_uri": "https://localhost:8080/",
          "height": 336
        },
        "outputId": "b89bd549-45d8-4b56-c1ab-12376a771056"
      },
      "source": [
        "print(\"Capital quiz\")\n",
        "for question in questions:\n",
        "    print(\"What is the capital of \",question,\"?\")\n",
        "    your_ans = input('answer:')\n",
        "    if your_ans.title() == answers[i].title():\n",
        "      print(\"Correct!\")\n",
        "      correct.append('yes')\n",
        "      i=i+1\n",
        "    else:\n",
        "      print(\"Wrong!\")\n",
        "      i=i+1"
      ],
      "execution_count": 12,
      "outputs": [
        {
          "output_type": "stream",
          "text": [
            "Capital quiz\n",
            "What is the capital of  UAE ?\n",
            "answer:abu dhabi\n",
            "Correct!\n",
            "What is the capital of  UK ?\n",
            "answer:london\n",
            "Correct!\n",
            "What is the capital of  Philippines ?\n",
            "answer:manila\n",
            "Correct!\n",
            "What is the capital of  Belgium ?\n",
            "answer:brussels\n",
            "Correct!\n",
            "What is the capital of  Egypt ?\n",
            "answer:cairo\n",
            "Correct!\n",
            "What is the capital of  China ?\n",
            "answer:beijing\n",
            "Correct!\n"
          ],
          "name": "stdout"
        }
      ]
    },
    {
      "cell_type": "markdown",
      "metadata": {
        "id": "R8LMA5UZ8E6G",
        "colab_type": "text"
      },
      "source": [
        "The scoring"
      ]
    },
    {
      "cell_type": "code",
      "metadata": {
        "id": "7hWE7qLL8GZL",
        "colab_type": "code",
        "colab": {
          "base_uri": "https://localhost:8080/",
          "height": 50
        },
        "outputId": "e7daa35b-7ba0-49ee-88a4-8b8bbdd4ffdb"
      },
      "source": [
        "score = len(correct) \n",
        "print(\"your score is \",score)\n",
        "if score == len(questions):\n",
        "  print(\"Perfect! You're a walking atlas\")\n",
        "elif score >= len(questions) * 0.7:\n",
        "  print(\"Wow! You're quite great at geography\")\n",
        "else:\n",
        "  print(\"Tough luck, pal. Study more and you'll get there\")"
      ],
      "execution_count": 13,
      "outputs": [
        {
          "output_type": "stream",
          "text": [
            "your score is  6\n",
            "Perfect! You're a walking atlas\n"
          ],
          "name": "stdout"
        }
      ]
    }
  ]
}